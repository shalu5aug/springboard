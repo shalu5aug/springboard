{
 "cells": [
  {
   "cell_type": "code",
   "execution_count": 1,
   "metadata": {},
   "outputs": [
    {
     "name": "stdout",
     "output_type": "stream",
     "text": [
      "2.6.0\n",
      "2. Query all tasks\n",
      "(26, 0, 0, '2012-07-06 08:00:00', 3, 100)\n",
      "(17, 1, 0, '2012-07-05 17:30:00', 3, 113)\n",
      "(77, 2, 0, '2012-07-09 19:00:00', 3, 39)\n",
      "(478, 3, 0, '2012-07-26 09:00:00', 2, 18)\n",
      "(9, 4, 0, '2012-07-04 15:00:00', 2, 208)\n",
      "(99, 5, 0, '2012-07-10 08:30:00', 2, 84)\n",
      "(2, 6, 0, '2012-07-03 18:00:00', 2, 245)\n",
      "(84, 7, 0, '2012-07-09 18:30:00', 4, 23)\n",
      "(104, 8, 0, '2012-07-10 11:30:00', 1, 53)\n"
     ]
    }
   ],
   "source": [
    "%run LocalSQLConnection.py"
   ]
  },
  {
   "cell_type": "code",
   "execution_count": null,
   "metadata": {},
   "outputs": [],
   "source": []
  }
 ],
 "metadata": {
  "kernelspec": {
   "display_name": "Python 3",
   "language": "python",
   "name": "python3"
  },
  "language_info": {
   "codemirror_mode": {
    "name": "ipython",
    "version": 3
   },
   "file_extension": ".py",
   "mimetype": "text/x-python",
   "name": "python",
   "nbconvert_exporter": "python",
   "pygments_lexer": "ipython3",
   "version": "3.8.5"
  }
 },
 "nbformat": 4,
 "nbformat_minor": 4
}
