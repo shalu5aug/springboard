{
 "cells": [
  {
   "cell_type": "code",
   "execution_count": 416,
   "metadata": {},
   "outputs": [],
   "source": [
    "import pandas as pd\n",
    "import numpy as np\n",
    "import matplotlib.pyplot as plt\n",
    "import seaborn as sns"
   ]
  },
  {
   "cell_type": "code",
   "execution_count": 417,
   "metadata": {},
   "outputs": [],
   "source": [
    "penguin_iter = pd.read_csv('penguins_lter.csv')"
   ]
  },
  {
   "cell_type": "code",
   "execution_count": 418,
   "metadata": {},
   "outputs": [],
   "source": [
    "penguins = pd.read_csv('penguins_size.csv')"
   ]
  },
  {
   "cell_type": "code",
   "execution_count": 481,
   "metadata": {
    "scrolled": true
   },
   "outputs": [
    {
     "data": {
      "text/html": [
       "<div>\n",
       "<style scoped>\n",
       "    .dataframe tbody tr th:only-of-type {\n",
       "        vertical-align: middle;\n",
       "    }\n",
       "\n",
       "    .dataframe tbody tr th {\n",
       "        vertical-align: top;\n",
       "    }\n",
       "\n",
       "    .dataframe thead th {\n",
       "        text-align: right;\n",
       "    }\n",
       "</style>\n",
       "<table border=\"1\" class=\"dataframe\">\n",
       "  <thead>\n",
       "    <tr style=\"text-align: right;\">\n",
       "      <th></th>\n",
       "      <th>Species</th>\n",
       "      <th>Island</th>\n",
       "      <th>Stage</th>\n",
       "      <th>Clutch_Completion</th>\n",
       "      <th>Date_Egg</th>\n",
       "      <th>Culmen_Length</th>\n",
       "      <th>Culmen_Depth</th>\n",
       "      <th>Flipper_Length</th>\n",
       "      <th>Body_Mass</th>\n",
       "      <th>Sex</th>\n",
       "      <th>Delta_15</th>\n",
       "      <th>Delta_13</th>\n",
       "      <th>Comments</th>\n",
       "    </tr>\n",
       "  </thead>\n",
       "  <tbody>\n",
       "    <tr>\n",
       "      <th>0</th>\n",
       "      <td>Adelie Penguin</td>\n",
       "      <td>Torgersen</td>\n",
       "      <td>Adult, 1 Egg Stage</td>\n",
       "      <td>Yes</td>\n",
       "      <td>11/11/07</td>\n",
       "      <td>39.1</td>\n",
       "      <td>18.7</td>\n",
       "      <td>181.0</td>\n",
       "      <td>3750.0</td>\n",
       "      <td>MALE</td>\n",
       "      <td>8.88098</td>\n",
       "      <td>-25.97696</td>\n",
       "      <td>Not enough blood for isotopes.</td>\n",
       "    </tr>\n",
       "    <tr>\n",
       "      <th>1</th>\n",
       "      <td>Adelie Penguin</td>\n",
       "      <td>Torgersen</td>\n",
       "      <td>Adult, 1 Egg Stage</td>\n",
       "      <td>Yes</td>\n",
       "      <td>11/11/07</td>\n",
       "      <td>39.5</td>\n",
       "      <td>17.4</td>\n",
       "      <td>186.0</td>\n",
       "      <td>3800.0</td>\n",
       "      <td>FEMALE</td>\n",
       "      <td>8.94956</td>\n",
       "      <td>-24.69454</td>\n",
       "      <td>NaN</td>\n",
       "    </tr>\n",
       "    <tr>\n",
       "      <th>2</th>\n",
       "      <td>Adelie Penguin</td>\n",
       "      <td>Torgersen</td>\n",
       "      <td>Adult, 1 Egg Stage</td>\n",
       "      <td>Yes</td>\n",
       "      <td>11/16/07</td>\n",
       "      <td>40.3</td>\n",
       "      <td>18.0</td>\n",
       "      <td>195.0</td>\n",
       "      <td>3250.0</td>\n",
       "      <td>FEMALE</td>\n",
       "      <td>8.36821</td>\n",
       "      <td>-25.33302</td>\n",
       "      <td>NaN</td>\n",
       "    </tr>\n",
       "    <tr>\n",
       "      <th>3</th>\n",
       "      <td>Adelie Penguin</td>\n",
       "      <td>Torgersen</td>\n",
       "      <td>Adult, 1 Egg Stage</td>\n",
       "      <td>Yes</td>\n",
       "      <td>11/16/07</td>\n",
       "      <td>38.8</td>\n",
       "      <td>18.4</td>\n",
       "      <td>190.0</td>\n",
       "      <td>3700.0</td>\n",
       "      <td>NaN</td>\n",
       "      <td>8.88098</td>\n",
       "      <td>-25.97696</td>\n",
       "      <td>Adult not sampled.</td>\n",
       "    </tr>\n",
       "    <tr>\n",
       "      <th>4</th>\n",
       "      <td>Adelie Penguin</td>\n",
       "      <td>Torgersen</td>\n",
       "      <td>Adult, 1 Egg Stage</td>\n",
       "      <td>Yes</td>\n",
       "      <td>11/16/07</td>\n",
       "      <td>36.7</td>\n",
       "      <td>19.3</td>\n",
       "      <td>193.0</td>\n",
       "      <td>3450.0</td>\n",
       "      <td>FEMALE</td>\n",
       "      <td>8.76651</td>\n",
       "      <td>-25.32426</td>\n",
       "      <td>NaN</td>\n",
       "    </tr>\n",
       "  </tbody>\n",
       "</table>\n",
       "</div>"
      ],
      "text/plain": [
       "          Species     Island               Stage Clutch_Completion  Date_Egg  \\\n",
       "0  Adelie Penguin  Torgersen  Adult, 1 Egg Stage               Yes  11/11/07   \n",
       "1  Adelie Penguin  Torgersen  Adult, 1 Egg Stage               Yes  11/11/07   \n",
       "2  Adelie Penguin  Torgersen  Adult, 1 Egg Stage               Yes  11/16/07   \n",
       "3  Adelie Penguin  Torgersen  Adult, 1 Egg Stage               Yes  11/16/07   \n",
       "4  Adelie Penguin  Torgersen  Adult, 1 Egg Stage               Yes  11/16/07   \n",
       "\n",
       "   Culmen_Length  Culmen_Depth  Flipper_Length  Body_Mass     Sex  Delta_15  \\\n",
       "0           39.1          18.7           181.0     3750.0    MALE   8.88098   \n",
       "1           39.5          17.4           186.0     3800.0  FEMALE   8.94956   \n",
       "2           40.3          18.0           195.0     3250.0  FEMALE   8.36821   \n",
       "3           38.8          18.4           190.0     3700.0     NaN   8.88098   \n",
       "4           36.7          19.3           193.0     3450.0  FEMALE   8.76651   \n",
       "\n",
       "   Delta_13                        Comments  \n",
       "0 -25.97696  Not enough blood for isotopes.  \n",
       "1 -24.69454                             NaN  \n",
       "2 -25.33302                             NaN  \n",
       "3 -25.97696              Adult not sampled.  \n",
       "4 -25.32426                             NaN  "
      ]
     },
     "execution_count": 481,
     "metadata": {},
     "output_type": "execute_result"
    }
   ],
   "source": [
    "penguin_iter.head(5)"
   ]
  },
  {
   "cell_type": "code",
   "execution_count": 527,
   "metadata": {},
   "outputs": [],
   "source": [
    "#drop individual specific columns\n",
    "penguin_iter.drop(['Sample Number','studyName','Individual ID','Region','Stage'], axis=1, inplace=True)"
   ]
  },
  {
   "cell_type": "code",
   "execution_count": 423,
   "metadata": {},
   "outputs": [
    {
     "data": {
      "text/plain": [
       "Index(['Species', 'Island', 'Stage', 'Clutch Completion', 'Date Egg',\n",
       "       'Culmen Length (mm)', 'Culmen Depth (mm)', 'Flipper Length (mm)',\n",
       "       'Body Mass (g)', 'Sex', 'Delta 15 N (o/oo)', 'Delta 13 C (o/oo)',\n",
       "       'Comments'],\n",
       "      dtype='object')"
      ]
     },
     "execution_count": 423,
     "metadata": {},
     "output_type": "execute_result"
    }
   ],
   "source": [
    "penguin_iter.columns"
   ]
  },
  {
   "cell_type": "code",
   "execution_count": 424,
   "metadata": {},
   "outputs": [],
   "source": [
    "penguin_iter.rename(columns={'Culmen Length (mm)':'Culmen_Length','Culmen Depth (mm)':'Culmen_Depth','Flipper Length (mm)':'Flipper_Length'}, inplace=True)"
   ]
  },
  {
   "cell_type": "code",
   "execution_count": 425,
   "metadata": {},
   "outputs": [],
   "source": [
    "penguin_iter.rename(columns={'Delta 15 N (o/oo)':'Delta_15','Delta 13 C (o/oo)':'Delta_13'}, inplace=True)"
   ]
  },
  {
   "cell_type": "code",
   "execution_count": 426,
   "metadata": {},
   "outputs": [],
   "source": [
    "penguin_iter.rename(columns={'Clutch Completion':'Clutch_Completion','Date Egg':'Date_Egg','Body Mass (g)':'Body_Mass'}, inplace=True)"
   ]
  },
  {
   "cell_type": "code",
   "execution_count": 427,
   "metadata": {},
   "outputs": [
    {
     "data": {
      "text/plain": [
       "Index(['Species', 'Island', 'Stage', 'Clutch_Completion', 'Date_Egg',\n",
       "       'Culmen_Length', 'Culmen_Depth', 'Flipper_Length', 'Body_Mass', 'Sex',\n",
       "       'Delta_15', 'Delta_13', 'Comments'],\n",
       "      dtype='object')"
      ]
     },
     "execution_count": 427,
     "metadata": {},
     "output_type": "execute_result"
    }
   ],
   "source": [
    "penguin_iter.columns"
   ]
  },
  {
   "cell_type": "code",
   "execution_count": 428,
   "metadata": {},
   "outputs": [
    {
     "data": {
      "text/plain": [
       "array(['Adelie Penguin (Pygoscelis adeliae)',\n",
       "       'Chinstrap penguin (Pygoscelis antarctica)',\n",
       "       'Gentoo penguin (Pygoscelis papua)'], dtype=object)"
      ]
     },
     "execution_count": 428,
     "metadata": {},
     "output_type": "execute_result"
    }
   ],
   "source": [
    "penguin_iter['Species'].unique()"
   ]
  },
  {
   "cell_type": "code",
   "execution_count": 429,
   "metadata": {},
   "outputs": [],
   "source": [
    "#Replace Species Value\n",
    "penguin_iter.replace({'Species':{'Adelie Penguin (Pygoscelis adeliae)':'Adelie Penguin','Chinstrap penguin (Pygoscelis antarctica)':'Chinstrap penguin'}}, inplace=True)"
   ]
  },
  {
   "cell_type": "code",
   "execution_count": 430,
   "metadata": {},
   "outputs": [],
   "source": [
    "penguin_iter.replace({'Species':{'Gentoo penguin (Pygoscelis papua)':'Gentoo penguin'}},inplace=True)"
   ]
  },
  {
   "cell_type": "code",
   "execution_count": 431,
   "metadata": {},
   "outputs": [
    {
     "data": {
      "text/plain": [
       "array(['Adelie Penguin', 'Chinstrap penguin', 'Gentoo penguin'],\n",
       "      dtype=object)"
      ]
     },
     "execution_count": 431,
     "metadata": {},
     "output_type": "execute_result"
    }
   ],
   "source": [
    "penguin_iter['Species'].unique()"
   ]
  },
  {
   "cell_type": "code",
   "execution_count": 470,
   "metadata": {},
   "outputs": [
    {
     "data": {
      "text/plain": [
       "<AxesSubplot:>"
      ]
     },
     "execution_count": 470,
     "metadata": {},
     "output_type": "execute_result"
    },
    {
     "data": {
      "image/png": "[encoded data removed]",
      "text/plain": [
       "<Figure size 432x288 with 1 Axes>"
      ]
     },
     "metadata": {
      "needs_background": "light"
     },
     "output_type": "display_data"
    }
   ],
   "source": [
    "penguin_iter['Species'].value_counts().plot(kind='bar')"
   ]
  },
  {
   "cell_type": "code",
   "execution_count": 432,
   "metadata": {},
   "outputs": [
    {
     "data": {
      "text/plain": [
       "Species                0\n",
       "Island                 0\n",
       "Stage                  0\n",
       "Clutch_Completion      0\n",
       "Date_Egg               0\n",
       "Culmen_Length          2\n",
       "Culmen_Depth           2\n",
       "Flipper_Length         2\n",
       "Body_Mass              2\n",
       "Sex                   10\n",
       "Delta_15              14\n",
       "Delta_13              13\n",
       "Comments             318\n",
       "dtype: int64"
      ]
     },
     "execution_count": 432,
     "metadata": {},
     "output_type": "execute_result"
    }
   ],
   "source": [
    "penguin_iter.isnull().sum()"
   ]
  },
  {
   "cell_type": "code",
   "execution_count": 442,
   "metadata": {},
   "outputs": [
    {
     "data": {
      "text/plain": [
       "<AxesSubplot:xlabel='Species', ylabel='Flipper_Length'>"
      ]
     },
     "execution_count": 442,
     "metadata": {},
     "output_type": "execute_result"
    },
    {
     "data": {
      "image/png": "[encoded data removed]",
      "text/plain": [
       "<Figure size 432x288 with 1 Axes>"
      ]
     },
     "metadata": {
      "needs_background": "light"
     },
     "output_type": "display_data"
    }
   ],
   "source": [
    "sns.boxplot(x='Species', y='Flipper_Length', data=penguin_iter)"
   ]
  },
  {
   "cell_type": "code",
   "execution_count": 444,
   "metadata": {},
   "outputs": [
    {
     "data": {
      "text/plain": [
       "<AxesSubplot:xlabel='Species', ylabel='Culmen_Depth'>"
      ]
     },
     "execution_count": 444,
     "metadata": {},
     "output_type": "execute_result"
    },
    {
     "data": {
      "image/png": "[encoded data removed]",
      "text/plain": [
       "<Figure size 432x288 with 1 Axes>"
      ]
     },
     "metadata": {
      "needs_background": "light"
     },
     "output_type": "display_data"
    }
   ],
   "source": [
    "sns.boxplot(x='Species', y='Culmen_Depth', data=penguin_iter)"
   ]
  },
  {
   "cell_type": "code",
   "execution_count": 445,
   "metadata": {},
   "outputs": [
    {
     "data": {
      "text/plain": [
       "<AxesSubplot:xlabel='Species', ylabel='Culmen_Length'>"
      ]
     },
     "execution_count": 445,
     "metadata": {},
     "output_type": "execute_result"
    },
    {
     "data": {
      "image/png": "[encoded data removed]",
      "text/plain": [
       "<Figure size 432x288 with 1 Axes>"
      ]
     },
     "metadata": {
      "needs_background": "light"
     },
     "output_type": "display_data"
    }
   ],
   "source": [
    "sns.boxplot(x='Species', y='Culmen_Length', data=penguin_iter)"
   ]
  },
  {
   "cell_type": "code",
   "execution_count": 447,
   "metadata": {},
   "outputs": [
    {
     "data": {
      "text/plain": [
       "<AxesSubplot:xlabel='Species', ylabel='Body_Mass'>"
      ]
     },
     "execution_count": 447,
     "metadata": {},
     "output_type": "execute_result"
    },
    {
     "data": {
      "image/png": "[encoded data removed]",
      "text/plain": [
       "<Figure size 432x288 with 1 Axes>"
      ]
     },
     "metadata": {
      "needs_background": "light"
     },
     "output_type": "display_data"
    }
   ],
   "source": [
    "sns.boxplot(x='Species', y='Body_Mass', data=penguin_iter)"
   ]
  },
  {
   "cell_type": "code",
   "execution_count": 433,
   "metadata": {},
   "outputs": [],
   "source": [
    "flt = (penguin_iter['Species']=='Adelie Penguin')"
   ]
  },
  {
   "cell_type": "code",
   "execution_count": 434,
   "metadata": {},
   "outputs": [],
   "source": [
    "# replace null values in Culmen Depth with species Adelie Penguin specific with corresponding medians\n",
    "penguin_iter.loc[flt,'Culmen_Depth'] = penguin_iter.loc[flt,'Culmen_Depth'].fillna(penguin_iter.loc[flt,'Culmen_Depth'].median())\n",
    "penguin_iter.loc[flt,'Culmen_Length'] = penguin_iter.loc[flt,'Culmen_Length'].fillna(penguin_iter.loc[flt,'Culmen_Length'].median())\n",
    "penguin_iter.loc[flt,'Flipper_Length'] = penguin_iter.loc[flt,'Flipper_Length'].fillna(penguin_iter.loc[flt,'Flipper_Length'].median())\n",
    "penguin_iter.loc[flt,'Body_Mass'] = penguin_iter.loc[flt,'Body_Mass'].fillna(penguin_iter.loc[flt,'Body_Mass'].median())\n",
    "penguin_iter.loc[flt,'Delta_15'] = penguin_iter.loc[flt,'Delta_15'].fillna(penguin_iter.loc[flt,'Delta_15'].median())\n",
    "penguin_iter.loc[flt,'Delta_13'] = penguin_iter.loc[flt,'Delta_13'].fillna(penguin_iter.loc[flt,'Delta_13'].median())\n"
   ]
  },
  {
   "cell_type": "code",
   "execution_count": 435,
   "metadata": {},
   "outputs": [],
   "source": [
    "# replace null values in Culmen Depth with species Gentoo penguin specific with corresponding medians\n",
    "flt = (penguin_iter['Species']=='Gentoo penguin')\n",
    "penguin_iter.loc[flt,'Culmen_Depth'] = penguin_iter.loc[flt,'Culmen_Depth'].fillna(penguin_iter.loc[flt,'Culmen_Depth'].median())\n",
    "penguin_iter.loc[flt,'Culmen_Length'] = penguin_iter.loc[flt,'Culmen_Length'].fillna(penguin_iter.loc[flt,'Culmen_Length'].median())\n",
    "penguin_iter.loc[flt,'Flipper_Length'] = penguin_iter.loc[flt,'Flipper_Length'].fillna(penguin_iter.loc[flt,'Flipper_Length'].median())\n",
    "penguin_iter.loc[flt,'Body_Mass'] = penguin_iter.loc[flt,'Body_Mass'].fillna(penguin_iter.loc[flt,'Body_Mass'].median())\n",
    "penguin_iter.loc[flt,'Delta_15'] = penguin_iter.loc[flt,'Delta_15'].fillna(penguin_iter.loc[flt,'Delta_15'].median())\n",
    "penguin_iter.loc[flt,'Delta_13'] = penguin_iter.loc[flt,'Delta_13'].fillna(penguin_iter.loc[flt,'Delta_13'].median())\n"
   ]
  },
  {
   "cell_type": "code",
   "execution_count": 436,
   "metadata": {},
   "outputs": [],
   "source": [
    "flt = (penguin_iter['Species']=='Chinstrap penguin')\n",
    "penguin_iter.loc[flt,'Delta_15'] = penguin_iter.loc[flt,'Delta_15'].fillna(penguin_iter.loc[flt,'Delta_15'].median())"
   ]
  },
  {
   "cell_type": "code",
   "execution_count": 446,
   "metadata": {},
   "outputs": [
    {
     "data": {
      "text/plain": [
       "Species                0\n",
       "Island                 0\n",
       "Stage                  0\n",
       "Clutch_Completion      0\n",
       "Date_Egg               0\n",
       "Culmen_Length          0\n",
       "Culmen_Depth           0\n",
       "Flipper_Length         0\n",
       "Body_Mass              0\n",
       "Sex                   10\n",
       "Delta_15               0\n",
       "Delta_13               0\n",
       "Comments             318\n",
       "dtype: int64"
      ]
     },
     "execution_count": 446,
     "metadata": {},
     "output_type": "execute_result"
    }
   ],
   "source": [
    "penguin_iter.isnull().sum()"
   ]
  },
  {
   "cell_type": "code",
   "execution_count": 547,
   "metadata": {},
   "outputs": [
    {
     "data": {
      "text/plain": [
       "<AxesSubplot:xlabel='Sex', ylabel='Body_Mass'>"
      ]
     },
     "execution_count": 547,
     "metadata": {},
     "output_type": "execute_result"
    },
    {
     "data": {
      "image/png": "[encoded data removed]",
      "text/plain": [
       "<Figure size 432x288 with 1 Axes>"
      ]
     },
     "metadata": {
      "needs_background": "light"
     },
     "output_type": "display_data"
    }
   ],
   "source": [
    "sns.barplot(data=penguin_iter, x= 'Sex', y='Body_Mass', estimator=np.mean, ci='sd')"
   ]
  },
  {
   "cell_type": "code",
   "execution_count": 448,
   "metadata": {},
   "outputs": [
    {
     "data": {
      "text/plain": [
       "<AxesSubplot:xlabel='Sex', ylabel='Body_Mass'>"
      ]
     },
     "execution_count": 448,
     "metadata": {},
     "output_type": "execute_result"
    },
    {
     "data": {
      "image/png": "[encoded data removed]",
      "text/plain": [
       "<Figure size 432x288 with 1 Axes>"
      ]
     },
     "metadata": {
      "needs_background": "light"
     },
     "output_type": "display_data"
    }
   ],
   "source": [
    "sns.boxplot(x='Sex', y='Body_Mass', data=penguin_iter)"
   ]
  },
  {
   "cell_type": "code",
   "execution_count": 450,
   "metadata": {},
   "outputs": [
    {
     "data": {
      "text/plain": [
       "<AxesSubplot:xlabel='Sex', ylabel='Culmen_Depth'>"
      ]
     },
     "execution_count": 450,
     "metadata": {},
     "output_type": "execute_result"
    },
    {
     "data": {
      "image/png": "[encoded data removed]",
      "text/plain": [
       "<Figure size 432x288 with 1 Axes>"
      ]
     },
     "metadata": {
      "needs_background": "light"
     },
     "output_type": "display_data"
    }
   ],
   "source": [
    "sns.boxplot(x='Sex', y='Culmen_Depth', data=penguin_iter)"
   ]
  },
  {
   "cell_type": "code",
   "execution_count": 451,
   "metadata": {},
   "outputs": [
    {
     "data": {
      "text/plain": [
       "<AxesSubplot:xlabel='Sex', ylabel='Culmen_Length'>"
      ]
     },
     "execution_count": 451,
     "metadata": {},
     "output_type": "execute_result"
    },
    {
     "data": {
      "image/png": "[encoded data removed]",
      "text/plain": [
       "<Figure size 432x288 with 1 Axes>"
      ]
     },
     "metadata": {
      "needs_background": "light"
     },
     "output_type": "display_data"
    }
   ],
   "source": [
    "sns.boxplot(x='Sex', y='Culmen_Length', data=penguin_iter)"
   ]
  },
  {
   "cell_type": "code",
   "execution_count": 483,
   "metadata": {},
   "outputs": [
    {
     "data": {
      "text/plain": [
       "array(['MALE', 'FEMALE', nan, '.'], dtype=object)"
      ]
     },
     "execution_count": 483,
     "metadata": {},
     "output_type": "execute_result"
    }
   ],
   "source": [
    "penguin_iter['Sex'].unique()"
   ]
  },
  {
   "cell_type": "code",
   "execution_count": 487,
   "metadata": {},
   "outputs": [],
   "source": [
    "penguin_iter.replace({'Sex':{'.':np.NaN}}, inplace=True)"
   ]
  },
  {
   "cell_type": "code",
   "execution_count": 490,
   "metadata": {},
   "outputs": [
    {
     "data": {
      "text/plain": [
       "MALE      168\n",
       "FEMALE    165\n",
       "Name: Sex, dtype: int64"
      ]
     },
     "execution_count": 490,
     "metadata": {},
     "output_type": "execute_result"
    }
   ],
   "source": [
    "penguin_iter['Sex'].value_counts()"
   ]
  },
  {
   "cell_type": "code",
   "execution_count": 503,
   "metadata": {},
   "outputs": [
    {
     "data": {
      "text/plain": [
       "(4300.0, 3650.0)"
      ]
     },
     "execution_count": 503,
     "metadata": {},
     "output_type": "execute_result"
    }
   ],
   "source": [
    "male = float(penguin_iter[penguin_iter['Sex']=='MALE']['Body_Mass'].median()) \n",
    "female = float(penguin_iter[penguin_iter['Sex']=='FEMALE']['Body_Mass'].median())\n",
    "male , female\n",
    "#we can use median value to replace missing values in sex column"
   ]
  },
  {
   "cell_type": "code",
   "execution_count": 508,
   "metadata": {},
   "outputs": [],
   "source": [
    "penguin_iter.loc[penguin_iter['Body_Mass']<male,'Sex'] = penguin_iter.loc[penguin_iter['Body_Mass']<male,'Sex'].fillna('FEMALE')\n",
    "penguin_iter.loc[penguin_iter['Body_Mass']>=male,'Sex'] = penguin_iter.loc[penguin_iter['Body_Mass']>=male]['Sex'].fillna('MALE')"
   ]
  },
  {
   "cell_type": "code",
   "execution_count": 509,
   "metadata": {},
   "outputs": [
    {
     "data": {
      "text/plain": [
       "array(['MALE', 'FEMALE'], dtype=object)"
      ]
     },
     "execution_count": 509,
     "metadata": {},
     "output_type": "execute_result"
    }
   ],
   "source": [
    "penguin_iter['Sex'].unique()"
   ]
  },
  {
   "cell_type": "code",
   "execution_count": 474,
   "metadata": {},
   "outputs": [
    {
     "data": {
      "text/plain": [
       "<AxesSubplot:>"
      ]
     },
     "execution_count": 474,
     "metadata": {},
     "output_type": "execute_result"
    },
    {
     "data": {
      "image/png": "[encoded data removed]",
      "text/plain": [
       "<Figure size 432x288 with 1 Axes>"
      ]
     },
     "metadata": {
      "needs_background": "light"
     },
     "output_type": "display_data"
    }
   ],
   "source": [
    "sns.boxplot(data=penguins[['culmen_length_mm','culmen_depth_mm','flipper_length_mm']])"
   ]
  },
  {
   "cell_type": "code",
   "execution_count": 510,
   "metadata": {},
   "outputs": [
    {
     "data": {
      "text/plain": [
       "<AxesSubplot:xlabel='culmen_length_mm', ylabel='culmen_depth_mm'>"
      ]
     },
     "execution_count": 510,
     "metadata": {},
     "output_type": "execute_result"
    },
    {
     "data": {
      "image/png": "[encoded data removed]",
      "text/plain": [
       "<Figure size 432x288 with 1 Axes>"
      ]
     },
     "metadata": {
      "needs_background": "light"
     },
     "output_type": "display_data"
    }
   ],
   "source": [
    "\n",
    "sns.scatterplot(x='culmen_length_mm', y='culmen_depth_mm', data=penguins, hue= 'species' )"
   ]
  },
  {
   "cell_type": "code",
   "execution_count": 520,
   "metadata": {},
   "outputs": [
    {
     "data": {
      "text/plain": [
       "<AxesSubplot:xlabel='Island', ylabel='count'>"
      ]
     },
     "execution_count": 520,
     "metadata": {},
     "output_type": "execute_result"
    },
    {
     "data": {
      "image/png": "[encoded data removed]",
      "text/plain": [
       "<Figure size 432x288 with 1 Axes>"
      ]
     },
     "metadata": {
      "needs_background": "light"
     },
     "output_type": "display_data"
    }
   ],
   "source": [
    "sns.countplot(x='Island', data=penguin_iter, hue='Species' )"
   ]
  },
  {
   "cell_type": "code",
   "execution_count": 540,
   "metadata": {},
   "outputs": [],
   "source": [
    "corr = penguin_iter.corr()"
   ]
  },
  {
   "cell_type": "code",
   "execution_count": 541,
   "metadata": {},
   "outputs": [
    {
     "data": {
      "text/html": [
       "<style  type=\"text/css\" >\n",
       "#T_757a9970_e25d_11ec_abfb_a8667f276b65row0_col0,#T_757a9970_e25d_11ec_abfb_a8667f276b65row1_col1,#T_757a9970_e25d_11ec_abfb_a8667f276b65row2_col2,#T_757a9970_e25d_11ec_abfb_a8667f276b65row3_col3,#T_757a9970_e25d_11ec_abfb_a8667f276b65row4_col4,#T_757a9970_e25d_11ec_abfb_a8667f276b65row5_col5{\n",
       "            background-color:  #b40426;\n",
       "            color:  #f1f1f1;\n",
       "        }#T_757a9970_e25d_11ec_abfb_a8667f276b65row0_col1{\n",
       "            background-color:  #82a6fb;\n",
       "            color:  #000000;\n",
       "        }#T_757a9970_e25d_11ec_abfb_a8667f276b65row0_col2{\n",
       "            background-color:  #f08b6e;\n",
       "            color:  #000000;\n",
       "        }#T_757a9970_e25d_11ec_abfb_a8667f276b65row0_col3{\n",
       "            background-color:  #f59f80;\n",
       "            color:  #000000;\n",
       "        }#T_757a9970_e25d_11ec_abfb_a8667f276b65row0_col4{\n",
       "            background-color:  #a1c0ff;\n",
       "            color:  #000000;\n",
       "        }#T_757a9970_e25d_11ec_abfb_a8667f276b65row0_col5{\n",
       "            background-color:  #c3d5f4;\n",
       "            color:  #000000;\n",
       "        }#T_757a9970_e25d_11ec_abfb_a8667f276b65row1_col0,#T_757a9970_e25d_11ec_abfb_a8667f276b65row1_col2,#T_757a9970_e25d_11ec_abfb_a8667f276b65row2_col1,#T_757a9970_e25d_11ec_abfb_a8667f276b65row3_col4,#T_757a9970_e25d_11ec_abfb_a8667f276b65row3_col5,#T_757a9970_e25d_11ec_abfb_a8667f276b65row4_col3{\n",
       "            background-color:  #3b4cc0;\n",
       "            color:  #f1f1f1;\n",
       "        }#T_757a9970_e25d_11ec_abfb_a8667f276b65row1_col3{\n",
       "            background-color:  #465ecf;\n",
       "            color:  #f1f1f1;\n",
       "        }#T_757a9970_e25d_11ec_abfb_a8667f276b65row1_col4{\n",
       "            background-color:  #f59c7d;\n",
       "            color:  #000000;\n",
       "        }#T_757a9970_e25d_11ec_abfb_a8667f276b65row1_col5{\n",
       "            background-color:  #edd1c2;\n",
       "            color:  #000000;\n",
       "        }#T_757a9970_e25d_11ec_abfb_a8667f276b65row2_col0{\n",
       "            background-color:  #f6a385;\n",
       "            color:  #000000;\n",
       "        }#T_757a9970_e25d_11ec_abfb_a8667f276b65row2_col3{\n",
       "            background-color:  #d1493f;\n",
       "            color:  #f1f1f1;\n",
       "        }#T_757a9970_e25d_11ec_abfb_a8667f276b65row2_col4{\n",
       "            background-color:  #4055c8;\n",
       "            color:  #f1f1f1;\n",
       "        }#T_757a9970_e25d_11ec_abfb_a8667f276b65row2_col5{\n",
       "            background-color:  #3c4ec2;\n",
       "            color:  #f1f1f1;\n",
       "        }#T_757a9970_e25d_11ec_abfb_a8667f276b65row3_col0{\n",
       "            background-color:  #f7b599;\n",
       "            color:  #000000;\n",
       "        }#T_757a9970_e25d_11ec_abfb_a8667f276b65row3_col1{\n",
       "            background-color:  #506bda;\n",
       "            color:  #000000;\n",
       "        }#T_757a9970_e25d_11ec_abfb_a8667f276b65row3_col2{\n",
       "            background-color:  #d0473d;\n",
       "            color:  #f1f1f1;\n",
       "        }#T_757a9970_e25d_11ec_abfb_a8667f276b65row4_col0{\n",
       "            background-color:  #6687ed;\n",
       "            color:  #000000;\n",
       "        }#T_757a9970_e25d_11ec_abfb_a8667f276b65row4_col1{\n",
       "            background-color:  #f4987a;\n",
       "            color:  #000000;\n",
       "        }#T_757a9970_e25d_11ec_abfb_a8667f276b65row4_col2{\n",
       "            background-color:  #4961d2;\n",
       "            color:  #f1f1f1;\n",
       "        }#T_757a9970_e25d_11ec_abfb_a8667f276b65row4_col5{\n",
       "            background-color:  #f7b194;\n",
       "            color:  #000000;\n",
       "        }#T_757a9970_e25d_11ec_abfb_a8667f276b65row5_col0{\n",
       "            background-color:  #afcafc;\n",
       "            color:  #000000;\n",
       "        }#T_757a9970_e25d_11ec_abfb_a8667f276b65row5_col1{\n",
       "            background-color:  #f5c2aa;\n",
       "            color:  #000000;\n",
       "        }#T_757a9970_e25d_11ec_abfb_a8667f276b65row5_col2{\n",
       "            background-color:  #6788ee;\n",
       "            color:  #000000;\n",
       "        }#T_757a9970_e25d_11ec_abfb_a8667f276b65row5_col3{\n",
       "            background-color:  #5e7de7;\n",
       "            color:  #000000;\n",
       "        }#T_757a9970_e25d_11ec_abfb_a8667f276b65row5_col4{\n",
       "            background-color:  #f6a586;\n",
       "            color:  #000000;\n",
       "        }</style><table id=\"T_757a9970_e25d_11ec_abfb_a8667f276b65\" ><thead>    <tr>        <th class=\"blank level0\" ></th>        <th class=\"col_heading level0 col0\" >Culmen_Length</th>        <th class=\"col_heading level0 col1\" >Culmen_Depth</th>        <th class=\"col_heading level0 col2\" >Flipper_Length</th>        <th class=\"col_heading level0 col3\" >Body_Mass</th>        <th class=\"col_heading level0 col4\" >Delta_15</th>        <th class=\"col_heading level0 col5\" >Delta_13</th>    </tr></thead><tbody>\n",
       "                <tr>\n",
       "                        <th id=\"T_757a9970_e25d_11ec_abfb_a8667f276b65level0_row0\" class=\"row_heading level0 row0\" >Culmen_Length</th>\n",
       "                        <td id=\"T_757a9970_e25d_11ec_abfb_a8667f276b65row0_col0\" class=\"data row0 col0\" >1.00</td>\n",
       "                        <td id=\"T_757a9970_e25d_11ec_abfb_a8667f276b65row0_col1\" class=\"data row0 col1\" >-0.24</td>\n",
       "                        <td id=\"T_757a9970_e25d_11ec_abfb_a8667f276b65row0_col2\" class=\"data row0 col2\" >0.66</td>\n",
       "                        <td id=\"T_757a9970_e25d_11ec_abfb_a8667f276b65row0_col3\" class=\"data row0 col3\" >0.60</td>\n",
       "                        <td id=\"T_757a9970_e25d_11ec_abfb_a8667f276b65row0_col4\" class=\"data row0 col4\" >-0.06</td>\n",
       "                        <td id=\"T_757a9970_e25d_11ec_abfb_a8667f276b65row0_col5\" class=\"data row0 col5\" >0.19</td>\n",
       "            </tr>\n",
       "            <tr>\n",
       "                        <th id=\"T_757a9970_e25d_11ec_abfb_a8667f276b65level0_row1\" class=\"row_heading level0 row1\" >Culmen_Depth</th>\n",
       "                        <td id=\"T_757a9970_e25d_11ec_abfb_a8667f276b65row1_col0\" class=\"data row1 col0\" >-0.24</td>\n",
       "                        <td id=\"T_757a9970_e25d_11ec_abfb_a8667f276b65row1_col1\" class=\"data row1 col1\" >1.00</td>\n",
       "                        <td id=\"T_757a9970_e25d_11ec_abfb_a8667f276b65row1_col2\" class=\"data row1 col2\" >-0.59</td>\n",
       "                        <td id=\"T_757a9970_e25d_11ec_abfb_a8667f276b65row1_col3\" class=\"data row1 col3\" >-0.47</td>\n",
       "                        <td id=\"T_757a9970_e25d_11ec_abfb_a8667f276b65row1_col4\" class=\"data row1 col4\" >0.61</td>\n",
       "                        <td id=\"T_757a9970_e25d_11ec_abfb_a8667f276b65row1_col5\" class=\"data row1 col5\" >0.42</td>\n",
       "            </tr>\n",
       "            <tr>\n",
       "                        <th id=\"T_757a9970_e25d_11ec_abfb_a8667f276b65level0_row2\" class=\"row_heading level0 row2\" >Flipper_Length</th>\n",
       "                        <td id=\"T_757a9970_e25d_11ec_abfb_a8667f276b65row2_col0\" class=\"data row2 col0\" >0.66</td>\n",
       "                        <td id=\"T_757a9970_e25d_11ec_abfb_a8667f276b65row2_col1\" class=\"data row2 col1\" >-0.59</td>\n",
       "                        <td id=\"T_757a9970_e25d_11ec_abfb_a8667f276b65row2_col2\" class=\"data row2 col2\" >1.00</td>\n",
       "                        <td id=\"T_757a9970_e25d_11ec_abfb_a8667f276b65row2_col3\" class=\"data row2 col3\" >0.87</td>\n",
       "                        <td id=\"T_757a9970_e25d_11ec_abfb_a8667f276b65row2_col4\" class=\"data row2 col4\" >-0.51</td>\n",
       "                        <td id=\"T_757a9970_e25d_11ec_abfb_a8667f276b65row2_col5\" class=\"data row2 col5\" >-0.36</td>\n",
       "            </tr>\n",
       "            <tr>\n",
       "                        <th id=\"T_757a9970_e25d_11ec_abfb_a8667f276b65level0_row3\" class=\"row_heading level0 row3\" >Body_Mass</th>\n",
       "                        <td id=\"T_757a9970_e25d_11ec_abfb_a8667f276b65row3_col0\" class=\"data row3 col0\" >0.60</td>\n",
       "                        <td id=\"T_757a9970_e25d_11ec_abfb_a8667f276b65row3_col1\" class=\"data row3 col1\" >-0.47</td>\n",
       "                        <td id=\"T_757a9970_e25d_11ec_abfb_a8667f276b65row3_col2\" class=\"data row3 col2\" >0.87</td>\n",
       "                        <td id=\"T_757a9970_e25d_11ec_abfb_a8667f276b65row3_col3\" class=\"data row3 col3\" >1.00</td>\n",
       "                        <td id=\"T_757a9970_e25d_11ec_abfb_a8667f276b65row3_col4\" class=\"data row3 col4\" >-0.54</td>\n",
       "                        <td id=\"T_757a9970_e25d_11ec_abfb_a8667f276b65row3_col5\" class=\"data row3 col5\" >-0.36</td>\n",
       "            </tr>\n",
       "            <tr>\n",
       "                        <th id=\"T_757a9970_e25d_11ec_abfb_a8667f276b65level0_row4\" class=\"row_heading level0 row4\" >Delta_15</th>\n",
       "                        <td id=\"T_757a9970_e25d_11ec_abfb_a8667f276b65row4_col0\" class=\"data row4 col0\" >-0.06</td>\n",
       "                        <td id=\"T_757a9970_e25d_11ec_abfb_a8667f276b65row4_col1\" class=\"data row4 col1\" >0.61</td>\n",
       "                        <td id=\"T_757a9970_e25d_11ec_abfb_a8667f276b65row4_col2\" class=\"data row4 col2\" >-0.51</td>\n",
       "                        <td id=\"T_757a9970_e25d_11ec_abfb_a8667f276b65row4_col3\" class=\"data row4 col3\" >-0.54</td>\n",
       "                        <td id=\"T_757a9970_e25d_11ec_abfb_a8667f276b65row4_col4\" class=\"data row4 col4\" >1.00</td>\n",
       "                        <td id=\"T_757a9970_e25d_11ec_abfb_a8667f276b65row4_col5\" class=\"data row4 col5\" >0.57</td>\n",
       "            </tr>\n",
       "            <tr>\n",
       "                        <th id=\"T_757a9970_e25d_11ec_abfb_a8667f276b65level0_row5\" class=\"row_heading level0 row5\" >Delta_13</th>\n",
       "                        <td id=\"T_757a9970_e25d_11ec_abfb_a8667f276b65row5_col0\" class=\"data row5 col0\" >0.19</td>\n",
       "                        <td id=\"T_757a9970_e25d_11ec_abfb_a8667f276b65row5_col1\" class=\"data row5 col1\" >0.42</td>\n",
       "                        <td id=\"T_757a9970_e25d_11ec_abfb_a8667f276b65row5_col2\" class=\"data row5 col2\" >-0.36</td>\n",
       "                        <td id=\"T_757a9970_e25d_11ec_abfb_a8667f276b65row5_col3\" class=\"data row5 col3\" >-0.36</td>\n",
       "                        <td id=\"T_757a9970_e25d_11ec_abfb_a8667f276b65row5_col4\" class=\"data row5 col4\" >0.57</td>\n",
       "                        <td id=\"T_757a9970_e25d_11ec_abfb_a8667f276b65row5_col5\" class=\"data row5 col5\" >1.00</td>\n",
       "            </tr>\n",
       "    </tbody></table>"
      ],
      "text/plain": [
       "<pandas.io.formats.style.Styler at 0x7fd16ec40bb0>"
      ]
     },
     "execution_count": 541,
     "metadata": {},
     "output_type": "execute_result"
    }
   ],
   "source": [
    "corr.style.background_gradient(cmap='coolwarm').set_precision(2)"
   ]
  },
  {
   "cell_type": "code",
   "execution_count": 544,
   "metadata": {},
   "outputs": [
    {
     "data": {
      "text/plain": [
       "<AxesSubplot:>"
      ]
     },
     "execution_count": 544,
     "metadata": {},
     "output_type": "execute_result"
    },
    {
     "data": {
      "image/png": "[encoded data removed]",
      "text/plain": [
       "<Figure size 432x288 with 2 Axes>"
      ]
     },
     "metadata": {
      "needs_background": "light"
     },
     "output_type": "display_data"
    }
   ],
   "source": [
    "sns.heatmap(corr)"
   ]
  },
  {
   "cell_type": "code",
   "execution_count": null,
   "metadata": {},
   "outputs": [],
   "source": []
  }
 ],
 "metadata": {
  "kernelspec": {
   "display_name": "Python 3",
   "language": "python",
   "name": "python3"
  },
  "language_info": {
   "codemirror_mode": {
    "name": "ipython",
    "version": 3
   },
   "file_extension": ".py",
   "mimetype": "text/x-python",
   "name": "python",
   "nbconvert_exporter": "python",
   "pygments_lexer": "ipython3",
   "version": "3.8.5"
  }
 },
 "nbformat": 4,
 "nbformat_minor": 4
}
