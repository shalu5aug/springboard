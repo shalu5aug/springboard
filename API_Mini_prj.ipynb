{
 "cells": [
  {
   "cell_type": "code",
   "execution_count": 119,
   "metadata": {},
   "outputs": [],
   "source": [
    "import pandas as pd"
   ]
  },
  {
   "cell_type": "code",
   "execution_count": 12,
   "metadata": {},
   "outputs": [],
   "source": [
    "import requests\n",
    "import json"
   ]
  },
  {
   "cell_type": "code",
   "execution_count": 85,
   "metadata": {},
   "outputs": [],
   "source": [
    "import os\n",
    "from dotenv import load_dotenv"
   ]
  },
  {
   "cell_type": "code",
   "execution_count": 86,
   "metadata": {},
   "outputs": [],
   "source": [
    "load_dotenv()\n",
    "key = os.getenv('API_key')"
   ]
  },
  {
   "cell_type": "code",
   "execution_count": 105,
   "metadata": {},
   "outputs": [],
   "source": [
    "url = 'https://data.nasdaq.com/api/v3/datasets/FSE/AFX_X/data.json?api_key=r2bLCsRHg5d3rXCzYhVC'"
   ]
  },
  {
   "cell_type": "code",
   "execution_count": 106,
   "metadata": {},
   "outputs": [
    {
     "data": {
      "text/plain": [
       "<Response [200]>"
      ]
     },
     "execution_count": 106,
     "metadata": {},
     "output_type": "execute_result"
    }
   ],
   "source": [
    "text = requests.get(url)\n",
    "text"
   ]
  },
  {
   "cell_type": "code",
   "execution_count": 551,
   "metadata": {},
   "outputs": [],
   "source": [
    "json_data = text.json()\n",
    "# json_data"
   ]
  },
  {
   "cell_type": "code",
   "execution_count": 548,
   "metadata": {},
   "outputs": [],
   "source": [
    "# for k in json_data.keys():\n",
    "#     print(k[])\n",
    "# #     print(k + ': ', json_data[k])"
   ]
  },
  {
   "cell_type": "code",
   "execution_count": 547,
   "metadata": {},
   "outputs": [],
   "source": [
    "# json_data['dataset_data']['data']"
   ]
  },
  {
   "cell_type": "code",
   "execution_count": 179,
   "metadata": {},
   "outputs": [],
   "source": [
    "\n",
    "from collections import defaultdict"
   ]
  },
  {
   "cell_type": "code",
   "execution_count": null,
   "metadata": {},
   "outputs": [],
   "source": [
    "d = defaultdict()"
   ]
  },
  {
   "cell_type": "code",
   "execution_count": 170,
   "metadata": {},
   "outputs": [],
   "source": [
    "jd = pd.DataFrame(json_data)"
   ]
  },
  {
   "cell_type": "code",
   "execution_count": 171,
   "metadata": {},
   "outputs": [
    {
     "data": {
      "text/plain": [
       "dataset_data    [[2020-12-01, 112.2, 112.2, 111.5, 112.0, None...\n",
       "Name: data, dtype: object"
      ]
     },
     "execution_count": 171,
     "metadata": {},
     "output_type": "execute_result"
    }
   ],
   "source": [
    "jd.loc['data']"
   ]
  },
  {
   "cell_type": "code",
   "execution_count": 172,
   "metadata": {},
   "outputs": [
    {
     "data": {
      "text/plain": [
       "dataset_data    [Date, Open, High, Low, Close, Change, Traded ...\n",
       "Name: column_names, dtype: object"
      ]
     },
     "execution_count": 172,
     "metadata": {},
     "output_type": "execute_result"
    }
   ],
   "source": [
    "jd.loc['column_names']"
   ]
  },
  {
   "cell_type": "code",
   "execution_count": 173,
   "metadata": {},
   "outputs": [],
   "source": [
    "jd_data = pd.DataFrame(jd)"
   ]
  },
  {
   "cell_type": "code",
   "execution_count": 193,
   "metadata": {},
   "outputs": [
    {
     "data": {
      "text/plain": [
       "array([list(['Date', 'Open', 'High', 'Low', 'Close', 'Change', 'Traded Volume', 'Turnover', 'Last Price of the Day', 'Daily Traded Units', 'Daily Turnover'])],\n",
       "      dtype=object)"
      ]
     },
     "execution_count": 193,
     "metadata": {},
     "output_type": "execute_result"
    }
   ],
   "source": [
    "col = jd.loc['column_names']\n",
    "col.values"
   ]
  },
  {
   "cell_type": "code",
   "execution_count": 175,
   "metadata": {},
   "outputs": [
    {
     "data": {
      "text/plain": [
       "<zip at 0x7fce2ab82200>"
      ]
     },
     "execution_count": 175,
     "metadata": {},
     "output_type": "execute_result"
    }
   ],
   "source": [
    "data = jd.loc['data']\n",
    "data.items()"
   ]
  },
  {
   "cell_type": "code",
   "execution_count": 537,
   "metadata": {},
   "outputs": [],
   "source": [
    "ls = list(zip(*data.items()))\n",
    "ls1 = ls[1][0]"
   ]
  },
  {
   "cell_type": "code",
   "execution_count": 198,
   "metadata": {},
   "outputs": [
    {
     "data": {
      "text/plain": [
       "['Date',\n",
       " 'Open',\n",
       " 'High',\n",
       " 'Low',\n",
       " 'Close',\n",
       " 'Change',\n",
       " 'Traded Volume',\n",
       " 'Turnover',\n",
       " 'Last Price of the Day',\n",
       " 'Daily Traded Units',\n",
       " 'Daily Turnover']"
      ]
     },
     "execution_count": 198,
     "metadata": {},
     "output_type": "execute_result"
    }
   ],
   "source": [
    "col.items()\n",
    "cs = list(zip(*col.items()))\n",
    "cl = cs[1][0]\n",
    "cl"
   ]
  },
  {
   "cell_type": "code",
   "execution_count": 502,
   "metadata": {},
   "outputs": [],
   "source": [
    "date = defaultdict(list)\n",
    "open_pr = defaultdict(list)\n",
    "high_pr = defaultdict(list)\n",
    "low_pr = defaultdict(list)\n",
    "close_pr = defaultdict(list)\n",
    "change_pr = defaultdict(list)\n",
    "trad_vol = defaultdict(list)\n",
    "turnover = defaultdict(list)\n",
    "lst_pr_day = defaultdict(list)\n",
    "daily_trd_unit = defaultdict(list)\n",
    "daily_turnover = defaultdict(list)\n",
    "change_price = defaultdict(list)\n"
   ]
  },
  {
   "cell_type": "code",
   "execution_count": 503,
   "metadata": {},
   "outputs": [
    {
     "data": {
      "text/plain": [
       "5268"
      ]
     },
     "execution_count": 503,
     "metadata": {},
     "output_type": "execute_result"
    }
   ],
   "source": [
    "len(ls1)"
   ]
  },
  {
   "cell_type": "code",
   "execution_count": 504,
   "metadata": {},
   "outputs": [],
   "source": [
    "no_cols = len(ls1)\n",
    "\n",
    "for i in range(no_cols):\n",
    "    if ls1[i][0][0:4]=='2017':\n",
    "\n",
    "        date['dt'].append(ls1[i][0])\n",
    "        \n",
    "        if ls1[i][1] is None:\n",
    "            open_pr['price'].append(0)\n",
    "        else:\n",
    "            open_pr['price'].append(ls1[i][1])\n",
    "            \n",
    "        if ls1[i][2] is None:\n",
    "            high_pr['price'].append(0)\n",
    "        else:\n",
    "            high_pr['price'].append(ls1[i][2])\n",
    "        \n",
    "        if ls1[i][3] is None:\n",
    "            low_pr['price'].append(0)\n",
    "        else:\n",
    "            low_pr['price'].append(ls1[i][3])\n",
    "            \n",
    "        if ls1[i][4] is None:\n",
    "            close_pr['price'].append(0)\n",
    "        else:\n",
    "            close_pr['price'].append(ls1[i][4])\n",
    "            \n",
    "        if ls1[i][5] is None:\n",
    "            change_pr['price'].append(0)\n",
    "        else:\n",
    "            change_pr['price'].append(ls1[i][5])\n",
    "        \n",
    "        if ls1[i][6] is None:\n",
    "            trad_vol['vol'].append(0)\n",
    "        else:\n",
    "            trad_vol['vol'].append(ls1[i][6])\n",
    "        \n",
    "        if ls1[i][7] is None:\n",
    "            turnover['turnover'].append(0)\n",
    "        else:\n",
    "            turnover['turnover'].append(ls1[i][7])\n",
    "        \n",
    "        if ls1[i][8] is None:\n",
    "            lst_pr_day['price'].append(0)\n",
    "        else:\n",
    "            lst_pr_day['price'].append(ls1[i][8])\n",
    "        \n",
    "        if ls1[i][9] is None:\n",
    "            daily_trd_unit['unit'].append(0)\n",
    "        else:\n",
    "            daily_trd_unit['unit'].append(ls1[i][9])\n",
    "        \n",
    "        if ls1[i][10] is None:\n",
    "            daily_turnover['turnover'].append(0)\n",
    "        else:\n",
    "            daily_turnover['turnover'].append(ls1[i][10])"
   ]
  },
  {
   "cell_type": "code",
   "execution_count": 505,
   "metadata": {},
   "outputs": [
    {
     "name": "stdout",
     "output_type": "stream",
     "text": [
      "set()\n"
     ]
    }
   ],
   "source": [
    "# check unique records for date\n",
    "intersection = set(date['dt']) & set(date['dt'])\n",
    "union = set(date['dt']) | set(date['dt'])\n",
    "non_intersection = intersection - union\n",
    "print(non_intersection)"
   ]
  },
  {
   "cell_type": "code",
   "execution_count": 506,
   "metadata": {},
   "outputs": [
    {
     "name": "stdout",
     "output_type": "stream",
     "text": [
      "highest opening price for year 2017: 53.11\n",
      "Lowest opening price for year 2017: 0\n"
     ]
    }
   ],
   "source": [
    "#Calculate what the highest and lowest opening prices were for the stock in this period.\n",
    "high_op_price=max(open_pr['price'])\n",
    "high_op_price\n",
    "low_op_price =min(open_pr['price'])\n",
    "print('highest opening price for year 2017:',high_op_price)\n",
    "print('Lowest opening price for year 2017:',low_op_price)"
   ]
  },
  {
   "cell_type": "code",
   "execution_count": 507,
   "metadata": {},
   "outputs": [],
   "source": [
    "#What was the largest change in any one day (based on High and Low price)?\n",
    "ln = len(low_pr['price'])\n",
    "for i in range(ln):\n",
    "    change_price['price'].append(high_pr['price'][i]-low_pr['price'][i])\n",
    "\n"
   ]
  },
  {
   "cell_type": "code",
   "execution_count": 508,
   "metadata": {},
   "outputs": [
    {
     "name": "stdout",
     "output_type": "stream",
     "text": [
      "2.8100000000000023\n"
     ]
    }
   ],
   "source": [
    "print(max(change_price['price']))"
   ]
  },
  {
   "cell_type": "code",
   "execution_count": 509,
   "metadata": {},
   "outputs": [
    {
     "name": "stdout",
     "output_type": "stream",
     "text": [
      "19.03\n"
     ]
    }
   ],
   "source": [
    "#What was the largest change between any two days (based on Closing Price)?\n",
    "print(max(close_pr['price']) - min(close_pr['price']))"
   ]
  },
  {
   "cell_type": "code",
   "execution_count": 510,
   "metadata": {},
   "outputs": [
    {
     "name": "stdout",
     "output_type": "stream",
     "text": [
      "89124.33725490196\n"
     ]
    }
   ],
   "source": [
    "#What was the average daily trading volume during this year?\n",
    "avg = sum(trad_vol['vol'])/len(trad_vol['vol'])\n",
    "print(avg)"
   ]
  },
  {
   "cell_type": "code",
   "execution_count": 536,
   "metadata": {},
   "outputs": [
    {
     "name": "stdout",
     "output_type": "stream",
     "text": [
      "76443.0\n"
     ]
    }
   ],
   "source": [
    "#Optional) What was the median trading volume during this year. (Note: you may need to implement your own function for calculating the median.)\n",
    "\n",
    "trad_vol['vol'].sort()\n",
    "cen = len(trad_vol['vol'])/2\n",
    "frst_num = int(cen)\n",
    "if isinstance(cen, float):\n",
    "    nxt_num =  frst_num + 1\n",
    "    median = (trad_vol['vol'][frst_num] + trad_vol['vol'][nxt_num])/2\n",
    "else:\n",
    "    median = trad_vol['vol'][frst_num]\n",
    "    \n",
    "print(median)\n",
    "    \n"
   ]
  },
  {
   "cell_type": "code",
   "execution_count": null,
   "metadata": {},
   "outputs": [],
   "source": []
  }
 ],
 "metadata": {
  "kernelspec": {
   "display_name": "Python 3",
   "language": "python",
   "name": "python3"
  },
  "language_info": {
   "codemirror_mode": {
    "name": "ipython",
    "version": 3
   },
   "file_extension": ".py",
   "mimetype": "text/x-python",
   "name": "python",
   "nbconvert_exporter": "python",
   "pygments_lexer": "ipython3",
   "version": "3.8.5"
  }
 },
 "nbformat": 4,
 "nbformat_minor": 4
}
